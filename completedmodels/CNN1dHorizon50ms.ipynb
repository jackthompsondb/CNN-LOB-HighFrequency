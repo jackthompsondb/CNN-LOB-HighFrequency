{
 "cells": [
  {
   "cell_type": "code",
   "execution_count": 1,
   "metadata": {},
   "outputs": [],
   "source": [
    "import pandas as pd\n",
    "import numpy as np\n",
    "from sklearn.model_selection import train_test_split\n",
    "from sklearn.preprocessing import StandardScaler\n",
    "import tensorflow as tf\n",
    "from tensorflow import keras\n",
    "from tensorflow.keras import layers\n",
    "from sklearn.model_selection import KFold\n",
    "import matplotlib.pyplot as plt\n",
    "from sklearn.metrics import accuracy_score, classification_report, confusion_matrix\n",
    "from tensorflow.keras.optimizers import Adam\n",
    "\n",
    "\n"
   ]
  },
  {
   "cell_type": "code",
   "execution_count": 2,
   "metadata": {},
   "outputs": [],
   "source": [
    "time_window = 15\n",
    "prediction_horizon = 10"
   ]
  },
  {
   "cell_type": "code",
   "execution_count": 10,
   "metadata": {},
   "outputs": [
    {
     "name": "stderr",
     "output_type": "stream",
     "text": [
      "C:\\Users\\dbjac\\AppData\\Local\\Temp\\ipykernel_20984\\511533882.py:5: FutureWarning: DataFrame.fillna with 'method' is deprecated and will raise in a future version. Use obj.ffill() or obj.bfill() instead.\n",
      "  df = df.fillna(method='ffill')  # Forward fill\n"
     ]
    }
   ],
   "source": [
    "df = pd.read_csv(r\"CNNdata\\fulldata.csv\")\n",
    "df[\"DateTime\"] = pd.to_datetime(df[\"DateTime\"])\n",
    "df.set_index(df[\"DateTime\"], inplace=True)\n",
    "df = df.resample(\"50ms\").mean()\n",
    "df = df.fillna(method='ffill') \n",
    "df\n",
    "del df[\"DateTime\"]\n"
   ]
  },
  {
   "cell_type": "code",
   "execution_count": 3,
   "metadata": {},
   "outputs": [
    {
     "name": "stderr",
     "output_type": "stream",
     "text": [
      "C:\\Users\\dbjac\\AppData\\Local\\Temp\\ipykernel_20984\\2678273852.py:5: FutureWarning: DataFrame.fillna with 'method' is deprecated and will raise in a future version. Use obj.ffill() or obj.bfill() instead.\n",
      "  df_FB = df_FB.fillna(method='ffill')  # Forward fill\n"
     ]
    }
   ],
   "source": [
    "df_FB = pd.read_csv(r\"CNNdata\\fulldata.csv\")\n",
    "\n",
    "df_FB\n",
    "del df_FB[\"DateTime\"]"
   ]
  },
  {
   "cell_type": "code",
   "execution_count": 4,
   "metadata": {},
   "outputs": [
    {
     "data": {
      "text/plain": [
       "Text(0.5, 1.0, 'Distribution of Log-Returns at 50ms ')"
      ]
     },
     "execution_count": 4,
     "metadata": {},
     "output_type": "execute_result"
    },
    {
     "data": {
      "image/png": "[encoded data removed]",
      "text/plain": [
       "<Figure size 640x480 with 1 Axes>"
      ]
     },
     "metadata": {},
     "output_type": "display_data"
    }
   ],
   "source": [
    "plt.hist(df[\"Returns\"],density=True,bins=20)\n",
    "plt.yscale(\"log\")\n",
    "plt.ylabel(\"log scale pdf(r)\")\n",
    "plt.xlabel(\"Log Return\")\n",
    "plt.title(\"Distribution of Log-Returns at 50ms \")\n",
    "\n"
   ]
  },
  {
   "cell_type": "code",
   "execution_count": 5,
   "metadata": {},
   "outputs": [
    {
     "name": "stdout",
     "output_type": "stream",
     "text": [
      "Price                 float64\n",
      "Mid                   float64\n",
      "WAP                   float64\n",
      "Returns               float64\n",
      "Spread                float64\n",
      "                       ...   \n",
      "Is_3                  float64\n",
      "Is_4                  float64\n",
      "Is_5                  float64\n",
      "Next_Mid_Direction    float64\n",
      "Mid_Change            float64\n",
      "Length: 71, dtype: object\n",
      "Price                 0\n",
      "Mid                   0\n",
      "WAP                   0\n",
      "Returns               0\n",
      "Spread                0\n",
      "                     ..\n",
      "Is_3                  0\n",
      "Is_4                  0\n",
      "Is_5                  0\n",
      "Next_Mid_Direction    0\n",
      "Mid_Change            0\n",
      "Length: 71, dtype: int64\n"
     ]
    }
   ],
   "source": [
    "print(df.dtypes)\n",
    "print(df.isnull().sum().cumsum())\n"
   ]
  },
  {
   "cell_type": "code",
   "execution_count": 6,
   "metadata": {},
   "outputs": [
    {
     "name": "stdout",
     "output_type": "stream",
     "text": [
      "Price 0\n",
      "Mid 0\n",
      "WAP 0\n",
      "Returns 0\n",
      "Spread 0\n",
      "Delta_AP_1 0\n",
      "Delta_BP_1 0\n",
      "Size 0\n",
      "Direction 0\n",
      "MA5_Order_Direction 0\n",
      "MA10_Order_Direction 0\n",
      "MA15_Order_Direction 0\n",
      "Ask_Price_Level_1 0\n",
      "Ask_Volume_Level_1 0\n",
      "Bid_Price_Level_1 0\n",
      "Bid_Volume_Level_1 0\n",
      "Ask_Price_Level_2 0\n",
      "Ask_Volume_Level_2 0\n",
      "Bid_Price_Level_2 0\n",
      "Bid_Volume_Level_2 0\n",
      "Ask_Price_Level_3 0\n",
      "Ask_Volume_Level_3 0\n",
      "Bid_Price_Level_3 0\n",
      "Bid_Volume_Level_3 0\n",
      "Ask_Price_Level_4 0\n",
      "Ask_Volume_Level_4 0\n",
      "Bid_Price_Level_4 0\n",
      "Bid_Volume_Level_4 0\n",
      "Ask_Price_Level_5 0\n",
      "Ask_Volume_Level_5 0\n",
      "Bid_Price_Level_5 0\n",
      "Bid_Volume_Level_5 0\n",
      "Ask_Price_Level_6 0\n",
      "Ask_Volume_Level_6 0\n",
      "Bid_Price_Level_6 0\n",
      "Bid_Volume_Level_6 0\n",
      "Ask_Price_Level_7 0\n",
      "Ask_Volume_Level_7 0\n",
      "Bid_Price_Level_7 0\n",
      "Bid_Volume_Level_7 0\n",
      "Ask_Price_Level_8 0\n",
      "Ask_Volume_Level_8 0\n",
      "Bid_Price_Level_8 0\n",
      "Bid_Volume_Level_8 0\n",
      "Ask_Price_Level_9 0\n",
      "Ask_Volume_Level_9 0\n",
      "Bid_Price_Level_9 0\n",
      "Bid_Volume_Level_9 0\n",
      "Ask_Price_Level_10 0\n",
      "Ask_Volume_Level_10 0\n",
      "Bid_Price_Level_10 0\n",
      "Bid_Volume_Level_10 0\n",
      "Ask_Volume 0\n",
      "Bid_Volume 0\n",
      "Ask_Volume_l5 0\n",
      "Bid_Volume_l5 0\n",
      "OBI 0\n",
      "RS 0\n",
      "vol_w5 0\n",
      "vol_w10 0\n",
      "vol_w15 0\n",
      "MA_w5 0\n",
      "MA_w10 0\n",
      "MA_w15 0\n",
      "Is_1 0\n",
      "Is_2 0\n",
      "Is_3 0\n",
      "Is_4 0\n",
      "Is_5 0\n",
      "Next_Mid_Direction 0\n",
      "Mid_Change 0\n"
     ]
    }
   ],
   "source": [
    "for index in df:\n",
    "    print(index,df[index].isna().sum())"
   ]
  },
  {
   "cell_type": "code",
   "execution_count": 7,
   "metadata": {},
   "outputs": [],
   "source": [
    "def create_target(df, prediction_horizon=10):\n",
    "    target = np.zeros(len(df) - prediction_horizon)  \n",
    "\n",
    "    for i in range(len(df) - prediction_horizon):\n",
    "      current_price = df['Mid'].iloc[i]\n",
    "      future_price = df['Mid'].iloc[i + prediction_horizon]\n",
    "\n",
    "      if future_price > current_price:\n",
    "          target[i] = 2  \n",
    "      elif future_price < current_price:\n",
    "          target[i] = 0  \n",
    "      else:\n",
    "          target[i] = 1  \n",
    "\n",
    "    return target\n",
    "\n"
   ]
  },
  {
   "cell_type": "code",
   "execution_count": 5,
   "metadata": {},
   "outputs": [],
   "source": [
    "def create_image_data(X,time_window):\n",
    "    num_samples = len(X) - time_window + 1\n",
    "    num_channels = X.shape[1]\n",
    "    images = np.zeros((num_samples,num_channels,time_window))\n",
    "    for i in range(num_samples):\n",
    "        images[i] = X[i:i+time_window].T\n",
    "    return images"
   ]
  },
  {
   "cell_type": "code",
   "execution_count": 11,
   "metadata": {},
   "outputs": [
    {
     "data": {
      "text/plain": [
       "'X_val[numerical_cols] = scaler.transform(X_val[numerical_cols])\\nX_test[numerical_cols] = scaler.transform(X_test[numerical_cols])\\n\\nX_train_images = create_image_data(X_train, time_window)\\ny_train_images = y_train[:len(X_train_images)] \\n\\nX_val_images = create_image_data(X_val, time_window)\\ny_val_images = y_val[:len(X_val_images)] \\n\\nX_test_images = create_image_data(X_test, time_window)\\ny_test_images = y_test[:len(X_test_images)] \\n\\nX_train.head()'"
      ]
     },
     "execution_count": 11,
     "metadata": {},
     "output_type": "execute_result"
    }
   ],
   "source": [
    "\n",
    "\n",
    "X = df.drop([\"Next_Mid_Direction\", \"Mid_Change\"], axis=1)  \n",
    "X = X[:-prediction_horizon]\n",
    "\n",
    "y = create_target(df, prediction_horizon)  \n",
    "\n",
    "X_train, X_temp, y_train, y_temp = train_test_split(X, y, test_size=0.3, random_state=42, shuffle=False)\n",
    "X_val, X_test, y_val, y_test = train_test_split(X_temp, y_temp, test_size=0.5, random_state=42, shuffle=False)\n",
    "\n",
    "X_train[\"Size\"] = X_train[\"Size\"].astype(np.float64)\n",
    "X_val[\"Size\"] = X_val[\"Size\"].astype(np.float64)\n",
    "X_test[\"Size\"] = X_test[\"Size\"].astype(np.float64)\n",
    "\n",
    "numerical_cols = X_train.select_dtypes(include=np.float64).columns\n",
    "scaler = StandardScaler()\n",
    "X_train[numerical_cols] = scaler.fit_transform(X_train[numerical_cols])\n",
    "X_val[numerical_cols] = scaler.transform(X_val[numerical_cols])\n",
    "X_test[numerical_cols] = scaler.transform(X_test[numerical_cols])\n",
    "\n",
    "X_train_images = create_image_data(X_train, time_window)\n",
    "y_train_images = y_train[:len(X_train_images)] \n",
    "\n",
    "X_val_images = create_image_data(X_val, time_window)\n",
    "y_val_images = y_val[:len(X_val_images)] \n",
    "\n",
    "X_test_images = create_image_data(X_test, time_window)\n",
    "y_test_images = y_test[:len(X_test_images)] \n",
    "\n",
    "X_train.head()"
   ]
  },
  {
   "cell_type": "code",
   "execution_count": 4,
   "metadata": {},
   "outputs": [],
   "source": [
    "\n",
    "\n",
    "def create_model(input_shape):\n",
    "    model = keras.Sequential([\n",
    "        keras.Input(shape=input_shape),  \n",
    "\n",
    "        layers.Conv1D(filters=32, kernel_size=3, activation='relu', padding='same'), \n",
    "        layers.BatchNormalization(), \n",
    "        layers.MaxPooling1D(pool_size=2), \n",
    "\n",
    "        layers.Conv1D(filters=32, kernel_size=3, activation='relu', padding='same'),  \n",
    "        layers.BatchNormalization(),\n",
    "        layers.MaxPooling1D(pool_size=2), \n",
    "\n",
    "        layers.Flatten(), \n",
    "        layers.Dense(128, activation='relu'),  \n",
    "        layers.Dropout(0.5),  \n",
    "        layers.Dense(3,activation=\"softmax\") \n",
    "    ])\n",
    "    return model\n",
    "\n",
    "\n"
   ]
  },
  {
   "cell_type": "code",
   "execution_count": 11,
   "metadata": {},
   "outputs": [],
   "source": [
    "\n",
    "\n",
    "input_shape = (X_train_images.shape[1], X_train_images.shape[2])\n",
    "model = create_model(input_shape)\n",
    "learning_rate = 0.0001  \n",
    "optimizer = Adam(learning_rate=learning_rate)\n",
    "\n",
    "model.compile(optimizer=optimizer,\n",
    "            loss='sparse_categorical_crossentropy',\n",
    "            metrics=['accuracy'])\n",
    "\n",
    "#tf.keras.utils.plot_model(model, to_file='cnn_architecture.png', show_shapes=True, show_layer_names=True, dpi=96)\n",
    "\n",
    "\n",
    "\n"
   ]
  },
  {
   "cell_type": "code",
   "execution_count": 12,
   "metadata": {},
   "outputs": [
    {
     "name": "stdout",
     "output_type": "stream",
     "text": [
      "Epoch 1/15\n",
      "\u001b[1m10237/10237\u001b[0m \u001b[32m━━━━━━━━━━━━━━━━━━━━\u001b[0m\u001b[37m\u001b[0m \u001b[1m60s\u001b[0m 5ms/step - accuracy: 0.7480 - loss: 0.6627 - val_accuracy: 0.8770 - val_loss: 0.3074\n",
      "Epoch 2/15\n",
      "\u001b[1m10237/10237\u001b[0m \u001b[32m━━━━━━━━━━━━━━━━━━━━\u001b[0m\u001b[37m\u001b[0m \u001b[1m91s\u001b[0m 6ms/step - accuracy: 0.8636 - loss: 0.3455 - val_accuracy: 0.8996 - val_loss: 0.2574\n",
      "Epoch 3/15\n",
      "\u001b[1m10237/10237\u001b[0m \u001b[32m━━━━━━━━━━━━━━━━━━━━\u001b[0m\u001b[37m\u001b[0m \u001b[1m64s\u001b[0m 6ms/step - accuracy: 0.8866 - loss: 0.2947 - val_accuracy: 0.9096 - val_loss: 0.2322\n",
      "Epoch 4/15\n",
      "\u001b[1m10237/10237\u001b[0m \u001b[32m━━━━━━━━━━━━━━━━━━━━\u001b[0m\u001b[37m\u001b[0m \u001b[1m63s\u001b[0m 6ms/step - accuracy: 0.9010 - loss: 0.2603 - val_accuracy: 0.9185 - val_loss: 0.2123\n",
      "Epoch 5/15\n",
      "\u001b[1m10237/10237\u001b[0m \u001b[32m━━━━━━━━━━━━━━━━━━━━\u001b[0m\u001b[37m\u001b[0m \u001b[1m65s\u001b[0m 6ms/step - accuracy: 0.9095 - loss: 0.2417 - val_accuracy: 0.9225 - val_loss: 0.2049\n",
      "Epoch 6/15\n",
      "\u001b[1m10237/10237\u001b[0m \u001b[32m━━━━━━━━━━━━━━━━━━━━\u001b[0m\u001b[37m\u001b[0m \u001b[1m58s\u001b[0m 6ms/step - accuracy: 0.9172 - loss: 0.2226 - val_accuracy: 0.9236 - val_loss: 0.2165\n",
      "Epoch 7/15\n",
      "\u001b[1m10237/10237\u001b[0m \u001b[32m━━━━━━━━━━━━━━━━━━━━\u001b[0m\u001b[37m\u001b[0m \u001b[1m63s\u001b[0m 6ms/step - accuracy: 0.9214 - loss: 0.2117 - val_accuracy: 0.9308 - val_loss: 0.1938\n",
      "Epoch 8/15\n",
      "\u001b[1m10237/10237\u001b[0m \u001b[32m━━━━━━━━━━━━━━━━━━━━\u001b[0m\u001b[37m\u001b[0m \u001b[1m61s\u001b[0m 6ms/step - accuracy: 0.9273 - loss: 0.1983 - val_accuracy: 0.9322 - val_loss: 0.1808\n",
      "Epoch 9/15\n",
      "\u001b[1m10237/10237\u001b[0m \u001b[32m━━━━━━━━━━━━━━━━━━━━\u001b[0m\u001b[37m\u001b[0m \u001b[1m56s\u001b[0m 5ms/step - accuracy: 0.9311 - loss: 0.1887 - val_accuracy: 0.9361 - val_loss: 0.1943\n",
      "Epoch 10/15\n",
      "\u001b[1m10237/10237\u001b[0m \u001b[32m━━━━━━━━━━━━━━━━━━━━\u001b[0m\u001b[37m\u001b[0m \u001b[1m60s\u001b[0m 6ms/step - accuracy: 0.9331 - loss: 0.1833 - val_accuracy: 0.9388 - val_loss: 0.1740\n",
      "Epoch 11/15\n",
      "\u001b[1m10237/10237\u001b[0m \u001b[32m━━━━━━━━━━━━━━━━━━━━\u001b[0m\u001b[37m\u001b[0m \u001b[1m57s\u001b[0m 6ms/step - accuracy: 0.9359 - loss: 0.1750 - val_accuracy: 0.9414 - val_loss: 0.1741\n",
      "Epoch 12/15\n",
      "\u001b[1m10237/10237\u001b[0m \u001b[32m━━━━━━━━━━━━━━━━━━━━\u001b[0m\u001b[37m\u001b[0m \u001b[1m57s\u001b[0m 6ms/step - accuracy: 0.9386 - loss: 0.1694 - val_accuracy: 0.9411 - val_loss: 0.1818\n",
      "Epoch 13/15\n",
      "\u001b[1m10237/10237\u001b[0m \u001b[32m━━━━━━━━━━━━━━━━━━━━\u001b[0m\u001b[37m\u001b[0m \u001b[1m55s\u001b[0m 5ms/step - accuracy: 0.9412 - loss: 0.1621 - val_accuracy: 0.9413 - val_loss: 0.1861\n",
      "Epoch 14/15\n",
      "\u001b[1m10237/10237\u001b[0m \u001b[32m━━━━━━━━━━━━━━━━━━━━\u001b[0m\u001b[37m\u001b[0m \u001b[1m55s\u001b[0m 5ms/step - accuracy: 0.9431 - loss: 0.1573 - val_accuracy: 0.9419 - val_loss: 0.1664\n",
      "Epoch 15/15\n",
      "\u001b[1m10237/10237\u001b[0m \u001b[32m━━━━━━━━━━━━━━━━━━━━\u001b[0m\u001b[37m\u001b[0m \u001b[1m58s\u001b[0m 6ms/step - accuracy: 0.9457 - loss: 0.1515 - val_accuracy: 0.9456 - val_loss: 0.1526\n"
     ]
    }
   ],
   "source": [
    "batch_size = 32\n",
    "epochs = 15\n",
    "\n",
    "history = model.fit(X_train_images, y_train_images, epochs=epochs, \n",
    "                batch_size=batch_size, validation_data=(X_val_images, y_val_images), verbose=1)\n",
    "\n"
   ]
  },
  {
   "cell_type": "code",
   "execution_count": 15,
   "metadata": {},
   "outputs": [
    {
     "name": "stdout",
     "output_type": "stream",
     "text": [
      "Epoch 1/15\n",
      "\u001b[1m10237/10237\u001b[0m \u001b[32m━━━━━━━━━━━━━━━━━━━━\u001b[0m\u001b[37m\u001b[0m \u001b[1m60s\u001b[0m 6ms/step - accuracy: 0.9474 - loss: 0.1469 - val_accuracy: 0.9409 - val_loss: 0.1616\n",
      "Epoch 2/15\n",
      "\u001b[1m10237/10237\u001b[0m \u001b[32m━━━━━━━━━━━━━━━━━━━━\u001b[0m\u001b[37m\u001b[0m \u001b[1m55s\u001b[0m 5ms/step - accuracy: 0.9485 - loss: 0.1439 - val_accuracy: 0.9466 - val_loss: 0.1482\n",
      "Epoch 3/15\n",
      "\u001b[1m10237/10237\u001b[0m \u001b[32m━━━━━━━━━━━━━━━━━━━━\u001b[0m\u001b[37m\u001b[0m \u001b[1m52s\u001b[0m 5ms/step - accuracy: 0.9496 - loss: 0.1410 - val_accuracy: 0.9459 - val_loss: 0.1562\n",
      "Epoch 4/15\n",
      "\u001b[1m10237/10237\u001b[0m \u001b[32m━━━━━━━━━━━━━━━━━━━━\u001b[0m\u001b[37m\u001b[0m \u001b[1m48s\u001b[0m 5ms/step - accuracy: 0.9508 - loss: 0.1360 - val_accuracy: 0.9485 - val_loss: 0.1494\n",
      "Epoch 5/15\n",
      "\u001b[1m10237/10237\u001b[0m \u001b[32m━━━━━━━━━━━━━━━━━━━━\u001b[0m\u001b[37m\u001b[0m \u001b[1m48s\u001b[0m 5ms/step - accuracy: 0.9518 - loss: 0.1341 - val_accuracy: 0.9458 - val_loss: 0.1518\n",
      "Epoch 6/15\n",
      "\u001b[1m10237/10237\u001b[0m \u001b[32m━━━━━━━━━━━━━━━━━━━━\u001b[0m\u001b[37m\u001b[0m \u001b[1m48s\u001b[0m 5ms/step - accuracy: 0.9532 - loss: 0.1316 - val_accuracy: 0.9452 - val_loss: 0.1729\n",
      "Epoch 7/15\n",
      "\u001b[1m10237/10237\u001b[0m \u001b[32m━━━━━━━━━━━━━━━━━━━━\u001b[0m\u001b[37m\u001b[0m \u001b[1m47s\u001b[0m 5ms/step - accuracy: 0.9540 - loss: 0.1286 - val_accuracy: 0.9496 - val_loss: 0.1610\n",
      "Epoch 8/15\n",
      "\u001b[1m10237/10237\u001b[0m \u001b[32m━━━━━━━━━━━━━━━━━━━━\u001b[0m\u001b[37m\u001b[0m \u001b[1m47s\u001b[0m 5ms/step - accuracy: 0.9557 - loss: 0.1237 - val_accuracy: 0.9364 - val_loss: 0.1806\n",
      "Epoch 9/15\n",
      "\u001b[1m10237/10237\u001b[0m \u001b[32m━━━━━━━━━━━━━━━━━━━━\u001b[0m\u001b[37m\u001b[0m \u001b[1m49s\u001b[0m 5ms/step - accuracy: 0.9559 - loss: 0.1237 - val_accuracy: 0.9480 - val_loss: 0.1429\n",
      "Epoch 10/15\n",
      "\u001b[1m10237/10237\u001b[0m \u001b[32m━━━━━━━━━━━━━━━━━━━━\u001b[0m\u001b[37m\u001b[0m \u001b[1m53s\u001b[0m 5ms/step - accuracy: 0.9576 - loss: 0.1197 - val_accuracy: 0.9515 - val_loss: 0.1398\n",
      "Epoch 11/15\n",
      "\u001b[1m10237/10237\u001b[0m \u001b[32m━━━━━━━━━━━━━━━━━━━━\u001b[0m\u001b[37m\u001b[0m \u001b[1m52s\u001b[0m 5ms/step - accuracy: 0.9590 - loss: 0.1162 - val_accuracy: 0.9505 - val_loss: 0.1479\n",
      "Epoch 12/15\n",
      "\u001b[1m10237/10237\u001b[0m \u001b[32m━━━━━━━━━━━━━━━━━━━━\u001b[0m\u001b[37m\u001b[0m \u001b[1m47s\u001b[0m 5ms/step - accuracy: 0.9593 - loss: 0.1147 - val_accuracy: 0.9423 - val_loss: 0.1660\n",
      "Epoch 13/15\n",
      "\u001b[1m10237/10237\u001b[0m \u001b[32m━━━━━━━━━━━━━━━━━━━━\u001b[0m\u001b[37m\u001b[0m \u001b[1m47s\u001b[0m 5ms/step - accuracy: 0.9602 - loss: 0.1121 - val_accuracy: 0.9480 - val_loss: 0.1426\n",
      "Epoch 14/15\n",
      "\u001b[1m10237/10237\u001b[0m \u001b[32m━━━━━━━━━━━━━━━━━━━━\u001b[0m\u001b[37m\u001b[0m \u001b[1m47s\u001b[0m 5ms/step - accuracy: 0.9605 - loss: 0.1114 - val_accuracy: 0.9529 - val_loss: 0.1341\n",
      "Epoch 15/15\n",
      "\u001b[1m10237/10237\u001b[0m \u001b[32m━━━━━━━━━━━━━━━━━━━━\u001b[0m\u001b[37m\u001b[0m \u001b[1m47s\u001b[0m 5ms/step - accuracy: 0.9613 - loss: 0.1094 - val_accuracy: 0.9444 - val_loss: 0.1777\n"
     ]
    }
   ],
   "source": [
    "\n",
    "\n",
    "history = model.fit(X_train_images, y_train_images, epochs=epochs, \n",
    "                batch_size=batch_size, validation_data=(X_val_images, y_val_images), verbose=1)\n",
    "\n"
   ]
  },
  {
   "cell_type": "code",
   "execution_count": 16,
   "metadata": {},
   "outputs": [
    {
     "name": "stdout",
     "output_type": "stream",
     "text": [
      "0.1576124451282427 51631  Up\n",
      "0.16604392182720662 54393 Down\n",
      "0.6763436330445507 221558 Neutral\n",
      "327582 Training Size\n",
      "\n",
      "0.1589558725047376 11156  Up\n",
      "0.16076542752518416 11283  Down\n",
      "0.6802786999700782 47744  Neutral\n",
      "70183 Testing Size\n",
      "\n",
      " 0.21425475015874568\n"
     ]
    }
   ],
   "source": [
    "print(len(y_train[y_train==2])/len(y_train),len(y_train[y_train==2]),\" Up\")\n",
    "print(len(y_train[y_train==0])/len(y_train),len(y_train[y_train==0]),\"Down\")\n",
    "print(len(y_train[y_train==1])/len(y_train),len(y_train[y_train==1]),\"Neutral\")\n",
    "print(len(y_train),\"Training Size\\n\")\n",
    "\n",
    "print(len(y_test_images[y_test_images==2])/len(y_test_images),len(y_test_images[y_test_images==2]),\" Up\")\n",
    "print(len(y_test_images[y_test_images==0])/len(y_test_images),len(y_test_images[y_test_images==0]),\" Down\")\n",
    "print(len(y_test_images[y_test_images==1])/len(y_test_images),len(y_test_images[y_test_images==1]),\" Neutral\")\n",
    "print(len(y_test_images),\"Testing Size\")\n",
    "\n",
    "print(\"\\n\",len(y_test_images)/len(y_train_images))"
   ]
  },
  {
   "cell_type": "code",
   "execution_count": 17,
   "metadata": {},
   "outputs": [
    {
     "name": "stdout",
     "output_type": "stream",
     "text": [
      "\u001b[1m2194/2194\u001b[0m \u001b[32m━━━━━━━━━━━━━━━━━━━━\u001b[0m\u001b[37m\u001b[0m \u001b[1m5s\u001b[0m 2ms/step\n",
      "Test Accuracy (using predictions): 0.9378766937862445\n",
      "              precision    recall  f1-score   support\n",
      "\n",
      "           0       0.88      0.85      0.87     11283\n",
      "           1       0.98      0.96      0.97     47744\n",
      "           2       0.83      0.91      0.87     11156\n",
      "\n",
      "    accuracy                           0.94     70183\n",
      "   macro avg       0.90      0.91      0.90     70183\n",
      "weighted avg       0.94      0.94      0.94     70183\n",
      "\n",
      "[[ 9640   494  1149]\n",
      " [  735 46029   980]\n",
      " [  555   447 10154]]\n",
      "Test Accuracy (using model.evaluate): 0.9378767013549805\n"
     ]
    },
    {
     "data": {
      "text/plain": [
       "<matplotlib.legend.Legend at 0x211767d1b50>"
      ]
     },
     "execution_count": 17,
     "metadata": {},
     "output_type": "execute_result"
    },
    {
     "data": {
      "image/png": "[encoded data removed]",
      "text/plain": [
       "<Figure size 1500x500 with 2 Axes>"
      ]
     },
     "metadata": {},
     "output_type": "display_data"
    }
   ],
   "source": [
    "predictions = model.predict(X_test_images)\n",
    "predicted_labels = np.argmax(predictions, axis=1) \n",
    "accuracy = accuracy_score(y_test_images.astype(int), predicted_labels)\n",
    "print(f\"Test Accuracy (using predictions): {accuracy}\")\n",
    "\n",
    "print(classification_report(y_test_images.astype(int),predicted_labels))\n",
    "\n",
    "print(confusion_matrix(y_test_images.astype(int),predicted_labels))\n",
    "\n",
    "loss, accuracy_eval = model.evaluate(X_test_images, y_test_images, verbose=0)\n",
    "print(f\"Test Accuracy (using model.evaluate): {accuracy_eval}\")\n",
    "\n",
    "fig,ax = plt.subplots(1,2,figsize=(15,5))\n",
    "ax[0].plot(history.history[\"accuracy\"],label=\"Train_Accuracy\")\n",
    "ax[0].plot(history.history[\"accuracy\"],label=\"Val_Accuracy\")\n",
    "ax[1].plot(history.history[\"loss\"],label=\"Train_Loss\")\n",
    "ax[1].plot(history.history[\"val_loss\"],label=\"Val_Loss\")\n",
    "ax[0].legend()\n",
    "ax[1].legend()\n"
   ]
  },
  {
   "cell_type": "code",
   "execution_count": 20,
   "metadata": {},
   "outputs": [],
   "source": [
    "model.save(\"C150.keras\")"
   ]
  },
  {
   "cell_type": "code",
   "execution_count": 17,
   "metadata": {},
   "outputs": [],
   "source": [
    "\n",
    "time_window = 15\n",
    "prediction_horizon = 10\n",
    "\n",
    "X_FB = df_FB.drop([\"Next_Mid_Direction\", \"Mid_Change\"], axis=1)  \n",
    "\n",
    "y_FB = create_target(df_FB, prediction_horizon)  \n",
    "\n",
    "X_FB[\"Size\"] = X_FB[\"Size\"].astype(np.float64)\n",
    "\n",
    "numerical_cols = X_FB.select_dtypes(include=np.float64).columns\n",
    "X_FB[numerical_cols] = scaler.transform(X_FB[numerical_cols])\n",
    "\n",
    "X_FB_images = create_image_data(X_FB,time_window)\n",
    "\n",
    "y_FB = y_FB[:len(X_FB_images)]\n"
   ]
  },
  {
   "cell_type": "code",
   "execution_count": 30,
   "metadata": {},
   "outputs": [
    {
     "name": "stdout",
     "output_type": "stream",
     "text": [
      "467971\n",
      "467971\n"
     ]
    }
   ],
   "source": [
    "\n",
    "print(len(y_FB))\n",
    "print(len(X_FB_images))"
   ]
  },
  {
   "cell_type": "code",
   "execution_count": 31,
   "metadata": {},
   "outputs": [
    {
     "name": "stderr",
     "output_type": "stream",
     "text": [
      "WARNING:absl:Compiled the loaded model, but the compiled metrics have yet to be built. `model.compile_metrics` will be empty until you train or evaluate the model.\n"
     ]
    },
    {
     "name": "stdout",
     "output_type": "stream",
     "text": [
      "\u001b[1m14625/14625\u001b[0m \u001b[32m━━━━━━━━━━━━━━━━━━━━\u001b[0m\u001b[37m\u001b[0m \u001b[1m39s\u001b[0m 3ms/step - accuracy: 0.9670 - loss: 0.1140\n",
      "FB Loss: 0.1290\n",
      "FB Accuracy: 96.18%\n",
      "\u001b[1m14625/14625\u001b[0m \u001b[32m━━━━━━━━━━━━━━━━━━━━\u001b[0m\u001b[37m\u001b[0m \u001b[1m38s\u001b[0m 3ms/step\n",
      "FB Test Accuracy (using predictions): 0.9618160099664296\n",
      "              precision    recall  f1-score   support\n",
      "\n",
      "         0.0       0.95      0.90      0.92     75567\n",
      "         1.0       0.99      0.98      0.98    319136\n",
      "         2.0       0.87      0.95      0.91     73268\n",
      "\n",
      "    accuracy                           0.96    467971\n",
      "   macro avg       0.94      0.94      0.94    467971\n",
      "weighted avg       0.96      0.96      0.96    467971\n",
      "\n",
      "[[ 67699   2227   5641]\n",
      " [  2165 312636   4335]\n",
      " [  1685   1816  69767]]\n"
     ]
    }
   ],
   "source": [
    "model = tf.keras.models.load_model('C150.h5')  \n",
    "\n",
    "loss_fb, accuracy_fb = model.evaluate(X_FB_images, y_FB, verbose=1)\n",
    "print(f'FB Loss: {loss_fb:.4f}')\n",
    "print(f'FB Accuracy: {accuracy_fb * 100:.2f}%')\n",
    "\n",
    "predictions_fb = model.predict(X_FB_images)\n",
    "\n",
    "predicted_labels_fb = np.argmax(predictions_fb, axis=1)\n",
    "\n",
    "accuracy_fb_pred = accuracy_score(y_FB, predicted_labels_fb)\n",
    "print(f\"FB Test Accuracy (using predictions): {accuracy_fb_pred}\")\n",
    "\n",
    "print(classification_report(y_FB, predicted_labels_fb))\n",
    "\n",
    "print(confusion_matrix(y_FB, predicted_labels_fb))\n"
   ]
  },
  {
   "cell_type": "code",
   "execution_count": null,
   "metadata": {},
   "outputs": [],
   "source": []
  }
 ],
 "metadata": {
  "kernelspec": {
   "display_name": "Python 3",
   "language": "python",
   "name": "python3"
  },
  "language_info": {
   "codemirror_mode": {
    "name": "ipython",
    "version": 3
   },
   "file_extension": ".py",
   "mimetype": "text/x-python",
   "name": "python",
   "nbconvert_exporter": "python",
   "pygments_lexer": "ipython3",
   "version": "3.12.6"
  }
 },
 "nbformat": 4,
 "nbformat_minor": 2
}

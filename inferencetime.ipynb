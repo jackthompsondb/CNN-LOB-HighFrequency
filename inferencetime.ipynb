{
 "cells": [
  {
   "cell_type": "code",
   "execution_count": 12,
   "metadata": {},
   "outputs": [],
   "source": [
    "import time\n",
    "import tensorflow as tf\n",
    "import numpy as np\n",
    "import pandas as pd\n",
    "from sklearn.preprocessing import StandardScaler\n"
   ]
  },
  {
   "cell_type": "code",
   "execution_count": 3,
   "metadata": {},
   "outputs": [
    {
     "name": "stderr",
     "output_type": "stream",
     "text": [
      "WARNING:absl:Compiled the loaded model, but the compiled metrics have yet to be built. `model.compile_metrics` will be empty until you train or evaluate the model.\n"
     ]
    }
   ],
   "source": [
    "model  = tf.keras.models.load_model(\"C150.h5\")"
   ]
  },
  {
   "cell_type": "code",
   "execution_count": 14,
   "metadata": {},
   "outputs": [
    {
     "name": "stderr",
     "output_type": "stream",
     "text": [
      "C:\\Users\\dbjac\\AppData\\Local\\Temp\\ipykernel_17800\\2532512776.py:5: FutureWarning: DataFrame.fillna with 'method' is deprecated and will raise in a future version. Use obj.ffill() or obj.bfill() instead.\n",
      "  df = df.fillna(method='ffill')\n"
     ]
    }
   ],
   "source": [
    "df = pd.read_csv(r\"CNNdata\\fulldata.csv\")\n",
    "df[\"DateTime\"] = pd.to_datetime(df[\"DateTime\"])\n",
    "df.set_index(df[\"DateTime\"], inplace=True)\n",
    "df = df.resample(\"50ms\").mean()\n",
    "df = df.fillna(method='ffill') \n",
    "del df[\"DateTime\"]\n"
   ]
  },
  {
   "cell_type": "code",
   "execution_count": 8,
   "metadata": {},
   "outputs": [],
   "source": [
    "def create_target(df, prediction_horizon=10):\n",
    "    \"\"\"Creates target variable for predicting price movement after prediction_horizon steps.\"\"\"\n",
    "    target = np.zeros(len(df) - prediction_horizon)  # Initialize target array\n",
    "\n",
    "    for i in range(len(df) - prediction_horizon):\n",
    "      current_price = df['Mid'].iloc[i]\n",
    "      future_price = df['Mid'].iloc[i + prediction_horizon]\n",
    "\n",
    "      if future_price > current_price:\n",
    "          target[i] = 2  # Up\n",
    "      elif future_price < current_price:\n",
    "          target[i] = 0  # Down\n",
    "      else:\n",
    "          target[i] = 1  # Neutral\n",
    "\n",
    "    return target\n",
    "\n",
    "def create_image_data(X,time_window):\n",
    "    num_samples = len(X) - time_window + 1\n",
    "    num_channels = X.shape[1]\n",
    "    images = np.zeros((num_samples,num_channels,time_window))\n",
    "    for i in range(num_samples):\n",
    "        images[i] = X[i:i+time_window].T\n",
    "    return images"
   ]
  },
  {
   "cell_type": "code",
   "execution_count": 15,
   "metadata": {},
   "outputs": [
    {
     "name": "stderr",
     "output_type": "stream",
     "text": [
      "C:\\Users\\dbjac\\AppData\\Local\\Temp\\ipykernel_17800\\4290216542.py:9: SettingWithCopyWarning: \n",
      "A value is trying to be set on a copy of a slice from a DataFrame.\n",
      "Try using .loc[row_indexer,col_indexer] = value instead\n",
      "\n",
      "See the caveats in the documentation: https://pandas.pydata.org/pandas-docs/stable/user_guide/indexing.html#returning-a-view-versus-a-copy\n",
      "  X_train[\"Size\"] = X_train[\"Size\"].astype(np.float64)\n",
      "C:\\Users\\dbjac\\AppData\\Local\\Temp\\ipykernel_17800\\4290216542.py:14: SettingWithCopyWarning: \n",
      "A value is trying to be set on a copy of a slice from a DataFrame.\n",
      "Try using .loc[row_indexer,col_indexer] = value instead\n",
      "\n",
      "See the caveats in the documentation: https://pandas.pydata.org/pandas-docs/stable/user_guide/indexing.html#returning-a-view-versus-a-copy\n",
      "  X_train[numerical_cols] = scaler.fit_transform(X_train[numerical_cols])\n"
     ]
    }
   ],
   "source": [
    "\n",
    "time_window = 15\n",
    "prediction_horizon =10\n",
    "X = df.drop([\"Next_Mid_Direction\", \"Mid_Change\"], axis=1)  # Features\n",
    "X_train = X[:-prediction_horizon]\n",
    "\n",
    "y = create_target(df, prediction_horizon)  # Target\n",
    "\n",
    "# Convert Size to float\n",
    "X_train[\"Size\"] = X_train[\"Size\"].astype(np.float64)\n",
    "\n",
    "\n",
    "numerical_cols = X_train.select_dtypes(include=np.float64).columns\n",
    "scaler = StandardScaler()\n",
    "X_train[numerical_cols] = scaler.fit_transform(X_train[numerical_cols])\n",
    "\n",
    "X_train_images = create_image_data(X_train, time_window)\n",
    "\n"
   ]
  },
  {
   "cell_type": "code",
   "execution_count": 21,
   "metadata": {},
   "outputs": [
    {
     "name": "stdout",
     "output_type": "stream",
     "text": [
      "467961\n",
      "Average inference time per sample (individual timings): 0.065017 seconds\n"
     ]
    }
   ],
   "source": [
    "\n",
    "batch_size = 32\n",
    "\n",
    "inference_times = []\n",
    "num_samples = len(X_train_images)\n",
    "print(num_samples)\n",
    "num_batches = int(np.ceil(num_samples / batch_size))  # Calculate the number of batches\n",
    "\n",
    "\n",
    "inference_times = []\n",
    "for i in range(num_batches):\n",
    "    start_index = i * batch_size\n",
    "    end_index = min((i + 1) * batch_size, num_samples)  # Handle the last batch\n",
    "    batch = X_train_images[start_index:end_index]    \n",
    "    start_time = time.time()\n",
    "    _ = model.predict(batch,verbose=0)\n",
    "    end_time = time.time()\n",
    "    inference_times.append(end_time - start_time)\n",
    "\n",
    "inference_time_per_sample_individual = np.mean(inference_times)\n",
    "print(f\"Average inference time per sample (individual timings): {inference_time_per_sample_individual:.6f} seconds\")\n"
   ]
  },
  {
   "cell_type": "code",
   "execution_count": null,
   "metadata": {},
   "outputs": [],
   "source": []
  }
 ],
 "metadata": {
  "kernelspec": {
   "display_name": "Python 3",
   "language": "python",
   "name": "python3"
  },
  "language_info": {
   "codemirror_mode": {
    "name": "ipython",
    "version": 3
   },
   "file_extension": ".py",
   "mimetype": "text/x-python",
   "name": "python",
   "nbconvert_exporter": "python",
   "pygments_lexer": "ipython3",
   "version": "3.12.6"
  }
 },
 "nbformat": 4,
 "nbformat_minor": 2
}
